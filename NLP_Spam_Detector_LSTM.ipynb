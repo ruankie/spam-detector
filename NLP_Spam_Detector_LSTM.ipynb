{
 "cells": [
  {
   "cell_type": "markdown",
   "metadata": {
    "id": "fs9uRdRp-A3G"
   },
   "source": [
    "# Binary Spam Classifier: NLP with LSTM in TensorFlow 2"
   ]
  },
  {
   "cell_type": "code",
   "execution_count": 1,
   "metadata": {
    "colab": {
     "base_uri": "https://localhost:8080/"
    },
    "id": "c8MSM3eo9m8H",
    "outputId": "c4fc0f26-1742-4644-ddc6-154dccecc7b4"
   },
   "outputs": [
    {
     "name": "stdout",
     "output_type": "stream",
     "text": [
      "2.4.1\n"
     ]
    }
   ],
   "source": [
    "import numpy as np\n",
    "import pandas as pd\n",
    "import matplotlib.pyplot as plt\n",
    "from sklearn.model_selection import train_test_split\n",
    "import tensorflow as tf\n",
    "from tensorflow.keras.models import Model\n",
    "from tensorflow.keras.layers import Input, Dense, LSTM, GlobalAveragePooling1D, Embedding\n",
    "from tensorflow.keras.optimizers import SGD, Adam\n",
    "from tensorflow.keras.preprocessing.text import Tokenizer\n",
    "from tensorflow.keras.preprocessing.sequence import pad_sequences\n",
    "\n",
    "print(tf.__version__)"
   ]
  },
  {
   "cell_type": "code",
   "execution_count": 2,
   "metadata": {
    "colab": {
     "base_uri": "https://localhost:8080/"
    },
    "id": "pB2rWvYO-t6e",
    "outputId": "ad31f66d-0ce0-4f27-e53a-4766c38834a5"
   },
   "outputs": [],
   "source": [
    "# download spam dataset (originally from kaggle)\n",
    "#!wget https://lazyprogrammer.me/course_files/spam.csv\n",
    "\n",
    "# this data set is in a strange format so import and transform to make useful\n",
    "df = pd.read_csv('spam.csv', encoding='ISO-8859-1')\n",
    "df = df.drop(['Unnamed: 2', 'Unnamed: 3', 'Unnamed: 4'], axis=1)\n",
    "df.columns = ['labels', 'data']\n",
    "df['b_labels'] = df['labels'].map({'ham':0, 'spam':1}) # create binary labels for spam\n",
    "Y = df['b_labels'].values # set target vector"
   ]
  },
  {
   "cell_type": "code",
   "execution_count": 3,
   "metadata": {
    "colab": {
     "base_uri": "https://localhost:8080/",
     "height": 195
    },
    "id": "LJ3fTeRms4AX",
    "outputId": "41eb4d14-a33a-4295-d0b0-562d5230b182"
   },
   "outputs": [
    {
     "data": {
      "text/html": [
       "<div>\n",
       "<style scoped>\n",
       "    .dataframe tbody tr th:only-of-type {\n",
       "        vertical-align: middle;\n",
       "    }\n",
       "\n",
       "    .dataframe tbody tr th {\n",
       "        vertical-align: top;\n",
       "    }\n",
       "\n",
       "    .dataframe thead th {\n",
       "        text-align: right;\n",
       "    }\n",
       "</style>\n",
       "<table border=\"1\" class=\"dataframe\">\n",
       "  <thead>\n",
       "    <tr style=\"text-align: right;\">\n",
       "      <th></th>\n",
       "      <th>labels</th>\n",
       "      <th>data</th>\n",
       "      <th>b_labels</th>\n",
       "    </tr>\n",
       "  </thead>\n",
       "  <tbody>\n",
       "    <tr>\n",
       "      <th>0</th>\n",
       "      <td>ham</td>\n",
       "      <td>Go until jurong point, crazy.. Available only ...</td>\n",
       "      <td>0</td>\n",
       "    </tr>\n",
       "    <tr>\n",
       "      <th>1</th>\n",
       "      <td>ham</td>\n",
       "      <td>Ok lar... Joking wif u oni...</td>\n",
       "      <td>0</td>\n",
       "    </tr>\n",
       "    <tr>\n",
       "      <th>2</th>\n",
       "      <td>spam</td>\n",
       "      <td>Free entry in 2 a wkly comp to win FA Cup fina...</td>\n",
       "      <td>1</td>\n",
       "    </tr>\n",
       "    <tr>\n",
       "      <th>3</th>\n",
       "      <td>ham</td>\n",
       "      <td>U dun say so early hor... U c already then say...</td>\n",
       "      <td>0</td>\n",
       "    </tr>\n",
       "    <tr>\n",
       "      <th>4</th>\n",
       "      <td>ham</td>\n",
       "      <td>Nah I don't think he goes to usf, he lives aro...</td>\n",
       "      <td>0</td>\n",
       "    </tr>\n",
       "  </tbody>\n",
       "</table>\n",
       "</div>"
      ],
      "text/plain": [
       "  labels                                               data  b_labels\n",
       "0    ham  Go until jurong point, crazy.. Available only ...         0\n",
       "1    ham                      Ok lar... Joking wif u oni...         0\n",
       "2   spam  Free entry in 2 a wkly comp to win FA Cup fina...         1\n",
       "3    ham  U dun say so early hor... U c already then say...         0\n",
       "4    ham  Nah I don't think he goes to usf, he lives aro...         0"
      ]
     },
     "execution_count": 3,
     "metadata": {},
     "output_type": "execute_result"
    }
   ],
   "source": [
    "df.head()"
   ]
  },
  {
   "cell_type": "code",
   "execution_count": 4,
   "metadata": {
    "colab": {
     "base_uri": "https://localhost:8080/"
    },
    "id": "2rYk3rYttnp1",
    "outputId": "42dc74d1-c4ed-4dce-8862-ae510d5623f1"
   },
   "outputs": [
    {
     "data": {
      "text/plain": [
       "array([0, 0, 1, ..., 0, 0, 0], dtype=int64)"
      ]
     },
     "execution_count": 4,
     "metadata": {},
     "output_type": "execute_result"
    }
   ],
   "source": [
    "Y"
   ]
  },
  {
   "cell_type": "code",
   "execution_count": 5,
   "metadata": {
    "id": "skJIUc74txCr"
   },
   "outputs": [],
   "source": [
    "# split for train and test\n",
    "X_train, X_test, Y_train, Y_test = train_test_split(df['data'], Y, test_size=0.33)"
   ]
  },
  {
   "cell_type": "markdown",
   "metadata": {
    "id": "pLXM2y5YrJv-"
   },
   "source": [
    "## Text preprocessing"
   ]
  },
  {
   "cell_type": "code",
   "execution_count": 6,
   "metadata": {
    "id": "9vVfUkIBuN0L"
   },
   "outputs": [],
   "source": [
    "# convert sentences to sequences of ints\n",
    "MAX_VOCAB_SIZE = 20000\n",
    "tokenizer = Tokenizer(num_words=MAX_VOCAB_SIZE)\n",
    "tokenizer.fit_on_texts(X_train)\n",
    "sequences_train = tokenizer.texts_to_sequences(X_train)\n",
    "sequences_test = tokenizer.texts_to_sequences(X_test)"
   ]
  },
  {
   "cell_type": "code",
   "execution_count": 7,
   "metadata": {
    "colab": {
     "base_uri": "https://localhost:8080/"
    },
    "id": "XaqXDeI8uNuU",
    "outputId": "6362e602-6a4d-4207-b760-2c97ee65c110"
   },
   "outputs": [
    {
     "name": "stdout",
     "output_type": "stream",
     "text": [
      "found 7209 unique tokens\n"
     ]
    }
   ],
   "source": [
    "# get word -> integer mapping\n",
    "word2idx = tokenizer.word_index\n",
    "V = len(word2idx)\n",
    "print('found %s unique tokens' %V)"
   ]
  },
  {
   "cell_type": "code",
   "execution_count": 8,
   "metadata": {
    "colab": {
     "base_uri": "https://localhost:8080/"
    },
    "id": "YLqoWVYMuNsX",
    "outputId": "cbf91d6e-5e00-4226-d7a1-ff552eb231ad"
   },
   "outputs": [
    {
     "name": "stdout",
     "output_type": "stream",
     "text": [
      "shape of X_train tensor: (3733, 189)\n"
     ]
    }
   ],
   "source": [
    "# pad sequences to get N x T matrix with constant T\n",
    "X_train = pad_sequences(sequences_train)\n",
    "print('shape of X_train tensor:', X_train.shape)\n",
    "\n",
    "# set sequence length T\n",
    "T = X_train.shape[1]"
   ]
  },
  {
   "cell_type": "code",
   "execution_count": 9,
   "metadata": {
    "colab": {
     "base_uri": "https://localhost:8080/"
    },
    "id": "D6jAVB1YwCwI",
    "outputId": "4b2f4cf0-b16a-4269-8c3f-caa679ac7bed"
   },
   "outputs": [
    {
     "name": "stdout",
     "output_type": "stream",
     "text": [
      "shape of X_test tensor: (1839, 189)\n"
     ]
    }
   ],
   "source": [
    "# pad test set in with same T used in train set\n",
    "X_test = pad_sequences(sequences_test, maxlen=T)\n",
    "print('shape of X_test tensor:', X_test.shape)"
   ]
  },
  {
   "cell_type": "markdown",
   "metadata": {
    "id": "WitRO_a5uKVx"
   },
   "source": [
    "## Build and train model"
   ]
  },
  {
   "cell_type": "code",
   "execution_count": 10,
   "metadata": {
    "colab": {
     "base_uri": "https://localhost:8080/"
    },
    "id": "G16_H7cHvvfn",
    "outputId": "7d145cce-f4c9-4d17-8257-8b45df57dd60"
   },
   "outputs": [
    {
     "name": "stdout",
     "output_type": "stream",
     "text": [
      "Epoch 1/10\n",
      "117/117 [==============================] - 9s 23ms/step - loss: 0.5395 - accuracy: 0.8691 - val_loss: 0.3780 - val_accuracy: 0.8668\n",
      "Epoch 2/10\n",
      "117/117 [==============================] - 2s 16ms/step - loss: 0.3697 - accuracy: 0.8692 - val_loss: 0.3580 - val_accuracy: 0.8668\n",
      "Epoch 3/10\n",
      "117/117 [==============================] - 2s 16ms/step - loss: 0.3486 - accuracy: 0.8676 - val_loss: 0.3276 - val_accuracy: 0.8668\n",
      "Epoch 4/10\n",
      "117/117 [==============================] - 2s 16ms/step - loss: 0.3182 - accuracy: 0.8640 - val_loss: 0.3041 - val_accuracy: 0.8668\n",
      "Epoch 5/10\n",
      "117/117 [==============================] - 2s 16ms/step - loss: 0.2708 - accuracy: 0.8757 - val_loss: 0.2774 - val_accuracy: 0.8668\n",
      "Epoch 6/10\n",
      "117/117 [==============================] - 2s 16ms/step - loss: 0.2548 - accuracy: 0.8722 - val_loss: 0.2616 - val_accuracy: 0.8679\n",
      "Epoch 7/10\n",
      "117/117 [==============================] - 2s 16ms/step - loss: 0.2586 - accuracy: 0.8486 - val_loss: 0.2464 - val_accuracy: 0.8668\n",
      "Epoch 8/10\n",
      "117/117 [==============================] - 2s 16ms/step - loss: 0.2191 - accuracy: 0.8740 - val_loss: 0.2288 - val_accuracy: 0.8722\n",
      "Epoch 9/10\n",
      "117/117 [==============================] - 2s 16ms/step - loss: 0.2003 - accuracy: 0.8874 - val_loss: 0.2149 - val_accuracy: 0.9130\n",
      "Epoch 10/10\n",
      "117/117 [==============================] - 2s 16ms/step - loss: 0.1947 - accuracy: 0.9153 - val_loss: 0.2029 - val_accuracy: 0.8989\n"
     ]
    }
   ],
   "source": [
    "# build LSTM model\n",
    "\n",
    "# choose and set embedding dimensionality\n",
    "# this is the size of the vector that will \n",
    "# ve used to represent words\n",
    "D = 20\n",
    "\n",
    "# set hidden state dimensionality\n",
    "M = 15\n",
    "\n",
    "# Note: we actually want to set the embedding dimensionsality\n",
    "# to (V+1) x D because the first index starts from 1 (not 0)\n",
    "# since 0 is used for padding and does not map to a word\n",
    "i = Input(shape=(T,))\n",
    "x = Embedding(V+1, D) (i)\n",
    "x = LSTM(M, return_sequences=True) (x)\n",
    "x = GlobalAveragePooling1D() (x)\n",
    "x = Dense(1, activation='sigmoid') (x)\n",
    "\n",
    "model = Model(i,x)\n",
    "model.compile(loss='binary_crossentropy',\n",
    "              optimizer='adam',\n",
    "              metrics=['accuracy'])\n",
    "\n",
    "# train model\n",
    "r = model.fit(X_train,\n",
    "              Y_train,\n",
    "              epochs=10,\n",
    "              validation_data=(X_test, Y_test))"
   ]
  },
  {
   "cell_type": "code",
   "execution_count": 11,
   "metadata": {
    "colab": {
     "base_uri": "https://localhost:8080/",
     "height": 265
    },
    "id": "iM0Gk6iawcSR",
    "outputId": "8f10b2d2-304e-4b65-90ba-36d8119a6370"
   },
   "outputs": [
    {
     "data": {
      "image/png": "[encoded data removed]",
      "text/plain": [
       "<Figure size 640x480 with 1 Axes>"
      ]
     },
     "metadata": {},
     "output_type": "display_data"
    }
   ],
   "source": [
    "# plot loss\n",
    "plt.plot(r.history['loss'], label='loss')\n",
    "plt.plot(r.history['val_loss'], label='val_loss')\n",
    "plt.legend();"
   ]
  },
  {
   "cell_type": "code",
   "execution_count": 12,
   "metadata": {
    "colab": {
     "base_uri": "https://localhost:8080/",
     "height": 265
    },
    "id": "kzwIwZkox_TF",
    "outputId": "15eb22a4-b0c9-4228-c905-6ffe6ba23654"
   },
   "outputs": [
    {
     "data": {
      "image/png": "[encoded data removed]",
      "text/plain": [
       "<Figure size 640x480 with 1 Axes>"
      ]
     },
     "metadata": {},
     "output_type": "display_data"
    }
   ],
   "source": [
    "# plot accuracy\n",
    "plt.plot(r.history['accuracy'], label='accuracy')\n",
    "plt.plot(r.history['val_accuracy'], label='val_accuracy')\n",
    "plt.legend();"
   ]
  },
  {
   "cell_type": "markdown",
   "metadata": {
    "id": "wQmSmsKXwvXN"
   },
   "source": [
    "## Test examples"
   ]
  },
  {
   "cell_type": "code",
   "execution_count": 13,
   "metadata": {
    "colab": {
     "base_uri": "https://localhost:8080/"
    },
    "id": "DEVhmZk12QAh",
    "outputId": "1e3a8cfb-63f4-422e-a216-c6994f77bf6c"
   },
   "outputs": [
    {
     "data": {
      "text/plain": [
       "array([0., 1., 0., ..., 0., 0., 0.], dtype=float32)"
      ]
     },
     "execution_count": 13,
     "metadata": {},
     "output_type": "execute_result"
    }
   ],
   "source": [
    "predictions = np.round(model.predict(X_test)[:,0])\n",
    "predictions"
   ]
  },
  {
   "cell_type": "code",
   "execution_count": 14,
   "metadata": {
    "colab": {
     "base_uri": "https://localhost:8080/"
    },
    "id": "CJFgnjM3ylNC",
    "outputId": "a1c8b56c-85b7-4a6b-d531-e5bab8a1f729"
   },
   "outputs": [
    {
     "data": {
      "text/plain": [
       "array([[1594,    0],\n",
       "       [ 186,   59]], dtype=int64)"
      ]
     },
     "execution_count": 14,
     "metadata": {},
     "output_type": "execute_result"
    }
   ],
   "source": [
    "from sklearn.metrics import confusion_matrix\n",
    "confusion_matrix(Y_test, predictions)"
   ]
  },
  {
   "cell_type": "code",
   "execution_count": null,
   "metadata": {
    "id": "bv5Iqsx-20tO"
   },
   "outputs": [],
   "source": []
  }
 ],
 "metadata": {
  "colab": {
   "collapsed_sections": [],
   "name": "NLP Spam Detector LSTM.ipynb",
   "provenance": [],
   "toc_visible": true
  },
  "kernelspec": {
   "display_name": "Python 3",
   "language": "python",
   "name": "python3"
  },
  "language_info": {
   "codemirror_mode": {
    "name": "ipython",
    "version": 3
   },
   "file_extension": ".py",
   "mimetype": "text/x-python",
   "name": "python",
   "nbconvert_exporter": "python",
   "pygments_lexer": "ipython3",
   "version": "3.7.6"
  }
 },
 "nbformat": 4,
 "nbformat_minor": 1
}
